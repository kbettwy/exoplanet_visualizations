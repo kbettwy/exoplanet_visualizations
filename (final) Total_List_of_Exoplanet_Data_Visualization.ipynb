{
  "nbformat": 4,
  "nbformat_minor": 0,
  "metadata": {
    "colab": {
      "name": "Total_List of Exoplanet Data Visualization.ipynb",
      "provenance": [],
      "collapsed_sections": []
    },
    "kernelspec": {
      "name": "python3",
      "display_name": "Python 3"
    },
    "language_info": {
      "name": "python"
    }
  },
  "cells": [
    {
      "cell_type": "code",
      "execution_count": null,
      "metadata": {
        "id": "fXqoJzLA50xs"
      },
      "outputs": [],
      "source": [
        "# Libraries for data manipulation\n",
        "import pandas as pd\n",
        "import numpy as np"
      ]
    },
    {
      "cell_type": "code",
      "source": [
        "# Libraries for data visualization\n",
        "import matplotlib.pyplot as plt\n",
        "import seaborn as sns"
      ],
      "metadata": {
        "id": "CKrJPbLB5-hi"
      },
      "execution_count": null,
      "outputs": []
    },
    {
      "cell_type": "code",
      "source": [
        "# Load the Data\n",
        "exoplanets = pd.read_csv(\"/content/drive/MyDrive/Exoplanets/(Everything)PSCompPars_2022.04.03_12.52.04.csv\", sep=',', skiprows=1)"
      ],
      "metadata": {
        "id": "mZPZtkNw6A2W"
      },
      "execution_count": null,
      "outputs": []
    },
    {
      "cell_type": "code",
      "source": [
        "from google.colab import drive\n",
        "drive.mount('/content/drive')"
      ],
      "metadata": {
        "colab": {
          "base_uri": "https://localhost:8080/"
        },
        "id": "ro7Ikei86Dih",
        "outputId": "ff3e4f56-317b-4a8f-e436-c0a50910012f"
      },
      "execution_count": 1,
      "outputs": [
        {
          "output_type": "stream",
          "name": "stdout",
          "text": [
            "Drive already mounted at /content/drive; to attempt to forcibly remount, call drive.mount(\"/content/drive\", force_remount=True).\n"
          ]
        }
      ]
    },
    {
      "cell_type": "code",
      "source": [
        "exoplanets"
      ],
      "metadata": {
        "colab": {
          "base_uri": "https://localhost:8080/",
          "height": 730
        },
        "id": "YBbimKGd6QIM",
        "outputId": "3b5f7305-4860-474c-8aaa-58e27c939bc0"
      },
      "execution_count": null,
      "outputs": [
        {
          "output_type": "execute_result",
          "data": {
            "text/plain": [
              "         pl_name  hostname  sy_snum  sy_pnum  discoverymethod  disc_year  \\\n",
              "0       11 Com b    11 Com        2        1  Radial Velocity       2007   \n",
              "1       11 UMi b    11 UMi        1        1  Radial Velocity       2009   \n",
              "2       14 And b    14 And        1        1  Radial Velocity       2008   \n",
              "3       14 Her b    14 Her        1        2  Radial Velocity       2002   \n",
              "4     16 Cyg B b  16 Cyg B        3        1  Radial Velocity       1996   \n",
              "...          ...       ...      ...      ...              ...        ...   \n",
              "5004   ups And b   ups And        2        3  Radial Velocity       1996   \n",
              "5005   ups And c   ups And        2        3  Radial Velocity       1999   \n",
              "5006   ups And d   ups And        2        3  Radial Velocity       1999   \n",
              "5007   ups Leo b   ups Leo        1        1  Radial Velocity       2021   \n",
              "5008    xi Aql b    xi Aql        1        1  Radial Velocity       2007   \n",
              "\n",
              "                               disc_facility  pl_controv_flag    pl_orbper  \\\n",
              "0                           Xinglong Station                0   326.030000   \n",
              "1     Thueringer Landessternwarte Tautenburg                0   516.219970   \n",
              "2          Okayama Astrophysical Observatory                0   185.840000   \n",
              "3                     W. M. Keck Observatory                0  1773.400020   \n",
              "4                     Multiple Observatories                0   798.500000   \n",
              "...                                      ...              ...          ...   \n",
              "5004                        Lick Observatory                0     4.617033   \n",
              "5005                  Multiple Observatories                0   241.258000   \n",
              "5006                  Multiple Observatories                0  1276.460000   \n",
              "5007       Okayama Astrophysical Observatory                0   385.200000   \n",
              "5008       Okayama Astrophysical Observatory                0   136.750000   \n",
              "\n",
              "      pl_orbsmax  ...  st_metratio  st_logg         rastr          ra  \\\n",
              "0       1.290000  ...       [Fe/H]     2.31  12h20m42.91s  185.178779   \n",
              "1       1.530000  ...       [Fe/H]     1.93  15h17m05.90s  229.274595   \n",
              "2       0.830000  ...       [Fe/H]     2.63  23h31m17.80s  352.824150   \n",
              "3       2.930000  ...       [Fe/H]     4.45  16h10m24.50s  242.602101   \n",
              "4       1.660000  ...       [Fe/H]     4.36  19h41m51.75s  295.465642   \n",
              "...          ...  ...          ...      ...           ...         ...   \n",
              "5004    0.059222  ...        [M/H]     4.13  01h36m47.60s   24.198353   \n",
              "5005    0.827774  ...        [M/H]     4.13  01h36m47.60s   24.198353   \n",
              "5006    2.513290  ...        [M/H]     4.13  01h36m47.60s   24.198353   \n",
              "5007    1.180000  ...       [Fe/H]     2.46  11h36m56.93s  174.237219   \n",
              "5008    0.680000  ...       [Fe/H]     2.66  19h54m14.99s  298.562449   \n",
              "\n",
              "             decstr        dec   sy_dist  sy_vmag  sy_kmag sy_gaiamag  \n",
              "0     +17d47m35.71s  17.793252   93.1846  4.72307    2.282    4.44038  \n",
              "1     +71d49m26.19s  71.823943  125.3210  5.01300    1.939    4.56216  \n",
              "2     +39d14m09.01s  39.235837   75.4392  5.23133    2.331    4.91781  \n",
              "3     +43d48m58.90s  43.816362   17.9323  6.61935    4.714    6.38300  \n",
              "4     +50d31m00.57s  50.516824   21.1397  6.21500    4.651    6.06428  \n",
              "...             ...        ...       ...      ...      ...        ...  \n",
              "5004  +41d24m13.73s  41.403815   13.4054  4.09565    2.859    3.98687  \n",
              "5005  +41d24m13.73s  41.403815   13.4054  4.09565    2.859    3.98687  \n",
              "5006  +41d24m13.73s  41.403815   13.4054  4.09565    2.859    3.98687  \n",
              "5007  -00d49m24.83s  -0.823564   52.5973  4.30490    2.184    4.03040  \n",
              "5008  +08d27m39.98s   8.461105   56.1858  4.70964    2.171    4.42501  \n",
              "\n",
              "[5009 rows x 34 columns]"
            ],
            "text/html": [
              "\n",
              "  <div id=\"df-bd48e989-b889-4ae6-baa4-a1a3d49229ad\">\n",
              "    <div class=\"colab-df-container\">\n",
              "      <div>\n",
              "<style scoped>\n",
              "    .dataframe tbody tr th:only-of-type {\n",
              "        vertical-align: middle;\n",
              "    }\n",
              "\n",
              "    .dataframe tbody tr th {\n",
              "        vertical-align: top;\n",
              "    }\n",
              "\n",
              "    .dataframe thead th {\n",
              "        text-align: right;\n",
              "    }\n",
              "</style>\n",
              "<table border=\"1\" class=\"dataframe\">\n",
              "  <thead>\n",
              "    <tr style=\"text-align: right;\">\n",
              "      <th></th>\n",
              "      <th>pl_name</th>\n",
              "      <th>hostname</th>\n",
              "      <th>sy_snum</th>\n",
              "      <th>sy_pnum</th>\n",
              "      <th>discoverymethod</th>\n",
              "      <th>disc_year</th>\n",
              "      <th>disc_facility</th>\n",
              "      <th>pl_controv_flag</th>\n",
              "      <th>pl_orbper</th>\n",
              "      <th>pl_orbsmax</th>\n",
              "      <th>...</th>\n",
              "      <th>st_metratio</th>\n",
              "      <th>st_logg</th>\n",
              "      <th>rastr</th>\n",
              "      <th>ra</th>\n",
              "      <th>decstr</th>\n",
              "      <th>dec</th>\n",
              "      <th>sy_dist</th>\n",
              "      <th>sy_vmag</th>\n",
              "      <th>sy_kmag</th>\n",
              "      <th>sy_gaiamag</th>\n",
              "    </tr>\n",
              "  </thead>\n",
              "  <tbody>\n",
              "    <tr>\n",
              "      <th>0</th>\n",
              "      <td>11 Com b</td>\n",
              "      <td>11 Com</td>\n",
              "      <td>2</td>\n",
              "      <td>1</td>\n",
              "      <td>Radial Velocity</td>\n",
              "      <td>2007</td>\n",
              "      <td>Xinglong Station</td>\n",
              "      <td>0</td>\n",
              "      <td>326.030000</td>\n",
              "      <td>1.290000</td>\n",
              "      <td>...</td>\n",
              "      <td>[Fe/H]</td>\n",
              "      <td>2.31</td>\n",
              "      <td>12h20m42.91s</td>\n",
              "      <td>185.178779</td>\n",
              "      <td>+17d47m35.71s</td>\n",
              "      <td>17.793252</td>\n",
              "      <td>93.1846</td>\n",
              "      <td>4.72307</td>\n",
              "      <td>2.282</td>\n",
              "      <td>4.44038</td>\n",
              "    </tr>\n",
              "    <tr>\n",
              "      <th>1</th>\n",
              "      <td>11 UMi b</td>\n",
              "      <td>11 UMi</td>\n",
              "      <td>1</td>\n",
              "      <td>1</td>\n",
              "      <td>Radial Velocity</td>\n",
              "      <td>2009</td>\n",
              "      <td>Thueringer Landessternwarte Tautenburg</td>\n",
              "      <td>0</td>\n",
              "      <td>516.219970</td>\n",
              "      <td>1.530000</td>\n",
              "      <td>...</td>\n",
              "      <td>[Fe/H]</td>\n",
              "      <td>1.93</td>\n",
              "      <td>15h17m05.90s</td>\n",
              "      <td>229.274595</td>\n",
              "      <td>+71d49m26.19s</td>\n",
              "      <td>71.823943</td>\n",
              "      <td>125.3210</td>\n",
              "      <td>5.01300</td>\n",
              "      <td>1.939</td>\n",
              "      <td>4.56216</td>\n",
              "    </tr>\n",
              "    <tr>\n",
              "      <th>2</th>\n",
              "      <td>14 And b</td>\n",
              "      <td>14 And</td>\n",
              "      <td>1</td>\n",
              "      <td>1</td>\n",
              "      <td>Radial Velocity</td>\n",
              "      <td>2008</td>\n",
              "      <td>Okayama Astrophysical Observatory</td>\n",
              "      <td>0</td>\n",
              "      <td>185.840000</td>\n",
              "      <td>0.830000</td>\n",
              "      <td>...</td>\n",
              "      <td>[Fe/H]</td>\n",
              "      <td>2.63</td>\n",
              "      <td>23h31m17.80s</td>\n",
              "      <td>352.824150</td>\n",
              "      <td>+39d14m09.01s</td>\n",
              "      <td>39.235837</td>\n",
              "      <td>75.4392</td>\n",
              "      <td>5.23133</td>\n",
              "      <td>2.331</td>\n",
              "      <td>4.91781</td>\n",
              "    </tr>\n",
              "    <tr>\n",
              "      <th>3</th>\n",
              "      <td>14 Her b</td>\n",
              "      <td>14 Her</td>\n",
              "      <td>1</td>\n",
              "      <td>2</td>\n",
              "      <td>Radial Velocity</td>\n",
              "      <td>2002</td>\n",
              "      <td>W. M. Keck Observatory</td>\n",
              "      <td>0</td>\n",
              "      <td>1773.400020</td>\n",
              "      <td>2.930000</td>\n",
              "      <td>...</td>\n",
              "      <td>[Fe/H]</td>\n",
              "      <td>4.45</td>\n",
              "      <td>16h10m24.50s</td>\n",
              "      <td>242.602101</td>\n",
              "      <td>+43d48m58.90s</td>\n",
              "      <td>43.816362</td>\n",
              "      <td>17.9323</td>\n",
              "      <td>6.61935</td>\n",
              "      <td>4.714</td>\n",
              "      <td>6.38300</td>\n",
              "    </tr>\n",
              "    <tr>\n",
              "      <th>4</th>\n",
              "      <td>16 Cyg B b</td>\n",
              "      <td>16 Cyg B</td>\n",
              "      <td>3</td>\n",
              "      <td>1</td>\n",
              "      <td>Radial Velocity</td>\n",
              "      <td>1996</td>\n",
              "      <td>Multiple Observatories</td>\n",
              "      <td>0</td>\n",
              "      <td>798.500000</td>\n",
              "      <td>1.660000</td>\n",
              "      <td>...</td>\n",
              "      <td>[Fe/H]</td>\n",
              "      <td>4.36</td>\n",
              "      <td>19h41m51.75s</td>\n",
              "      <td>295.465642</td>\n",
              "      <td>+50d31m00.57s</td>\n",
              "      <td>50.516824</td>\n",
              "      <td>21.1397</td>\n",
              "      <td>6.21500</td>\n",
              "      <td>4.651</td>\n",
              "      <td>6.06428</td>\n",
              "    </tr>\n",
              "    <tr>\n",
              "      <th>...</th>\n",
              "      <td>...</td>\n",
              "      <td>...</td>\n",
              "      <td>...</td>\n",
              "      <td>...</td>\n",
              "      <td>...</td>\n",
              "      <td>...</td>\n",
              "      <td>...</td>\n",
              "      <td>...</td>\n",
              "      <td>...</td>\n",
              "      <td>...</td>\n",
              "      <td>...</td>\n",
              "      <td>...</td>\n",
              "      <td>...</td>\n",
              "      <td>...</td>\n",
              "      <td>...</td>\n",
              "      <td>...</td>\n",
              "      <td>...</td>\n",
              "      <td>...</td>\n",
              "      <td>...</td>\n",
              "      <td>...</td>\n",
              "      <td>...</td>\n",
              "    </tr>\n",
              "    <tr>\n",
              "      <th>5004</th>\n",
              "      <td>ups And b</td>\n",
              "      <td>ups And</td>\n",
              "      <td>2</td>\n",
              "      <td>3</td>\n",
              "      <td>Radial Velocity</td>\n",
              "      <td>1996</td>\n",
              "      <td>Lick Observatory</td>\n",
              "      <td>0</td>\n",
              "      <td>4.617033</td>\n",
              "      <td>0.059222</td>\n",
              "      <td>...</td>\n",
              "      <td>[M/H]</td>\n",
              "      <td>4.13</td>\n",
              "      <td>01h36m47.60s</td>\n",
              "      <td>24.198353</td>\n",
              "      <td>+41d24m13.73s</td>\n",
              "      <td>41.403815</td>\n",
              "      <td>13.4054</td>\n",
              "      <td>4.09565</td>\n",
              "      <td>2.859</td>\n",
              "      <td>3.98687</td>\n",
              "    </tr>\n",
              "    <tr>\n",
              "      <th>5005</th>\n",
              "      <td>ups And c</td>\n",
              "      <td>ups And</td>\n",
              "      <td>2</td>\n",
              "      <td>3</td>\n",
              "      <td>Radial Velocity</td>\n",
              "      <td>1999</td>\n",
              "      <td>Multiple Observatories</td>\n",
              "      <td>0</td>\n",
              "      <td>241.258000</td>\n",
              "      <td>0.827774</td>\n",
              "      <td>...</td>\n",
              "      <td>[M/H]</td>\n",
              "      <td>4.13</td>\n",
              "      <td>01h36m47.60s</td>\n",
              "      <td>24.198353</td>\n",
              "      <td>+41d24m13.73s</td>\n",
              "      <td>41.403815</td>\n",
              "      <td>13.4054</td>\n",
              "      <td>4.09565</td>\n",
              "      <td>2.859</td>\n",
              "      <td>3.98687</td>\n",
              "    </tr>\n",
              "    <tr>\n",
              "      <th>5006</th>\n",
              "      <td>ups And d</td>\n",
              "      <td>ups And</td>\n",
              "      <td>2</td>\n",
              "      <td>3</td>\n",
              "      <td>Radial Velocity</td>\n",
              "      <td>1999</td>\n",
              "      <td>Multiple Observatories</td>\n",
              "      <td>0</td>\n",
              "      <td>1276.460000</td>\n",
              "      <td>2.513290</td>\n",
              "      <td>...</td>\n",
              "      <td>[M/H]</td>\n",
              "      <td>4.13</td>\n",
              "      <td>01h36m47.60s</td>\n",
              "      <td>24.198353</td>\n",
              "      <td>+41d24m13.73s</td>\n",
              "      <td>41.403815</td>\n",
              "      <td>13.4054</td>\n",
              "      <td>4.09565</td>\n",
              "      <td>2.859</td>\n",
              "      <td>3.98687</td>\n",
              "    </tr>\n",
              "    <tr>\n",
              "      <th>5007</th>\n",
              "      <td>ups Leo b</td>\n",
              "      <td>ups Leo</td>\n",
              "      <td>1</td>\n",
              "      <td>1</td>\n",
              "      <td>Radial Velocity</td>\n",
              "      <td>2021</td>\n",
              "      <td>Okayama Astrophysical Observatory</td>\n",
              "      <td>0</td>\n",
              "      <td>385.200000</td>\n",
              "      <td>1.180000</td>\n",
              "      <td>...</td>\n",
              "      <td>[Fe/H]</td>\n",
              "      <td>2.46</td>\n",
              "      <td>11h36m56.93s</td>\n",
              "      <td>174.237219</td>\n",
              "      <td>-00d49m24.83s</td>\n",
              "      <td>-0.823564</td>\n",
              "      <td>52.5973</td>\n",
              "      <td>4.30490</td>\n",
              "      <td>2.184</td>\n",
              "      <td>4.03040</td>\n",
              "    </tr>\n",
              "    <tr>\n",
              "      <th>5008</th>\n",
              "      <td>xi Aql b</td>\n",
              "      <td>xi Aql</td>\n",
              "      <td>1</td>\n",
              "      <td>1</td>\n",
              "      <td>Radial Velocity</td>\n",
              "      <td>2007</td>\n",
              "      <td>Okayama Astrophysical Observatory</td>\n",
              "      <td>0</td>\n",
              "      <td>136.750000</td>\n",
              "      <td>0.680000</td>\n",
              "      <td>...</td>\n",
              "      <td>[Fe/H]</td>\n",
              "      <td>2.66</td>\n",
              "      <td>19h54m14.99s</td>\n",
              "      <td>298.562449</td>\n",
              "      <td>+08d27m39.98s</td>\n",
              "      <td>8.461105</td>\n",
              "      <td>56.1858</td>\n",
              "      <td>4.70964</td>\n",
              "      <td>2.171</td>\n",
              "      <td>4.42501</td>\n",
              "    </tr>\n",
              "  </tbody>\n",
              "</table>\n",
              "<p>5009 rows × 34 columns</p>\n",
              "</div>\n",
              "      <button class=\"colab-df-convert\" onclick=\"convertToInteractive('df-bd48e989-b889-4ae6-baa4-a1a3d49229ad')\"\n",
              "              title=\"Convert this dataframe to an interactive table.\"\n",
              "              style=\"display:none;\">\n",
              "        \n",
              "  <svg xmlns=\"http://www.w3.org/2000/svg\" height=\"24px\"viewBox=\"0 0 24 24\"\n",
              "       width=\"24px\">\n",
              "    <path d=\"M0 0h24v24H0V0z\" fill=\"none\"/>\n",
              "    <path d=\"M18.56 5.44l.94 2.06.94-2.06 2.06-.94-2.06-.94-.94-2.06-.94 2.06-2.06.94zm-11 1L8.5 8.5l.94-2.06 2.06-.94-2.06-.94L8.5 2.5l-.94 2.06-2.06.94zm10 10l.94 2.06.94-2.06 2.06-.94-2.06-.94-.94-2.06-.94 2.06-2.06.94z\"/><path d=\"M17.41 7.96l-1.37-1.37c-.4-.4-.92-.59-1.43-.59-.52 0-1.04.2-1.43.59L10.3 9.45l-7.72 7.72c-.78.78-.78 2.05 0 2.83L4 21.41c.39.39.9.59 1.41.59.51 0 1.02-.2 1.41-.59l7.78-7.78 2.81-2.81c.8-.78.8-2.07 0-2.86zM5.41 20L4 18.59l7.72-7.72 1.47 1.35L5.41 20z\"/>\n",
              "  </svg>\n",
              "      </button>\n",
              "      \n",
              "  <style>\n",
              "    .colab-df-container {\n",
              "      display:flex;\n",
              "      flex-wrap:wrap;\n",
              "      gap: 12px;\n",
              "    }\n",
              "\n",
              "    .colab-df-convert {\n",
              "      background-color: #E8F0FE;\n",
              "      border: none;\n",
              "      border-radius: 50%;\n",
              "      cursor: pointer;\n",
              "      display: none;\n",
              "      fill: #1967D2;\n",
              "      height: 32px;\n",
              "      padding: 0 0 0 0;\n",
              "      width: 32px;\n",
              "    }\n",
              "\n",
              "    .colab-df-convert:hover {\n",
              "      background-color: #E2EBFA;\n",
              "      box-shadow: 0px 1px 2px rgba(60, 64, 67, 0.3), 0px 1px 3px 1px rgba(60, 64, 67, 0.15);\n",
              "      fill: #174EA6;\n",
              "    }\n",
              "\n",
              "    [theme=dark] .colab-df-convert {\n",
              "      background-color: #3B4455;\n",
              "      fill: #D2E3FC;\n",
              "    }\n",
              "\n",
              "    [theme=dark] .colab-df-convert:hover {\n",
              "      background-color: #434B5C;\n",
              "      box-shadow: 0px 1px 3px 1px rgba(0, 0, 0, 0.15);\n",
              "      filter: drop-shadow(0px 1px 2px rgba(0, 0, 0, 0.3));\n",
              "      fill: #FFFFFF;\n",
              "    }\n",
              "  </style>\n",
              "\n",
              "      <script>\n",
              "        const buttonEl =\n",
              "          document.querySelector('#df-bd48e989-b889-4ae6-baa4-a1a3d49229ad button.colab-df-convert');\n",
              "        buttonEl.style.display =\n",
              "          google.colab.kernel.accessAllowed ? 'block' : 'none';\n",
              "\n",
              "        async function convertToInteractive(key) {\n",
              "          const element = document.querySelector('#df-bd48e989-b889-4ae6-baa4-a1a3d49229ad');\n",
              "          const dataTable =\n",
              "            await google.colab.kernel.invokeFunction('convertToInteractive',\n",
              "                                                     [key], {});\n",
              "          if (!dataTable) return;\n",
              "\n",
              "          const docLinkHtml = 'Like what you see? Visit the ' +\n",
              "            '<a target=\"_blank\" href=https://colab.research.google.com/notebooks/data_table.ipynb>data table notebook</a>'\n",
              "            + ' to learn more about interactive tables.';\n",
              "          element.innerHTML = '';\n",
              "          dataTable['output_type'] = 'display_data';\n",
              "          await google.colab.output.renderOutput(dataTable, element);\n",
              "          const docLink = document.createElement('div');\n",
              "          docLink.innerHTML = docLinkHtml;\n",
              "          element.appendChild(docLink);\n",
              "        }\n",
              "      </script>\n",
              "    </div>\n",
              "  </div>\n",
              "  "
            ]
          },
          "metadata": {},
          "execution_count": 67
        }
      ]
    },
    {
      "cell_type": "code",
      "source": [
        "exoplanets.info()"
      ],
      "metadata": {
        "colab": {
          "base_uri": "https://localhost:8080/"
        },
        "id": "QpjeU9WwAL6y",
        "outputId": "20007c52-defa-4aed-8d32-20ec153a351c"
      },
      "execution_count": null,
      "outputs": [
        {
          "output_type": "stream",
          "name": "stdout",
          "text": [
            "<class 'pandas.core.frame.DataFrame'>\n",
            "RangeIndex: 5009 entries, 0 to 5008\n",
            "Data columns (total 34 columns):\n",
            " #   Column           Non-Null Count  Dtype  \n",
            "---  ------           --------------  -----  \n",
            " 0   pl_name          5009 non-null   object \n",
            " 1   hostname         5009 non-null   object \n",
            " 2   sy_snum          5009 non-null   int64  \n",
            " 3   sy_pnum          5009 non-null   int64  \n",
            " 4   discoverymethod  5009 non-null   object \n",
            " 5   disc_year        5009 non-null   int64  \n",
            " 6   disc_facility    5009 non-null   object \n",
            " 7   pl_controv_flag  5009 non-null   int64  \n",
            " 8   pl_orbper        4840 non-null   float64\n",
            " 9   pl_orbsmax       4750 non-null   float64\n",
            " 10  pl_rade          4995 non-null   float64\n",
            " 11  pl_radj          4993 non-null   float64\n",
            " 12  pl_bmasse        4986 non-null   float64\n",
            " 13  pl_bmassj        4986 non-null   float64\n",
            " 14  pl_bmassprov     5009 non-null   object \n",
            " 15  pl_orbeccen      4371 non-null   float64\n",
            " 16  pl_insol         3204 non-null   float64\n",
            " 17  pl_eqt           3748 non-null   float64\n",
            " 18  ttv_flag         5009 non-null   int64  \n",
            " 19  st_spectype      1740 non-null   object \n",
            " 20  st_teff          4869 non-null   float64\n",
            " 21  st_rad           4850 non-null   float64\n",
            " 22  st_mass          5005 non-null   float64\n",
            " 23  st_met           4690 non-null   float64\n",
            " 24  st_metratio      4662 non-null   object \n",
            " 25  st_logg          4847 non-null   float64\n",
            " 26  rastr            5009 non-null   object \n",
            " 27  ra               5009 non-null   float64\n",
            " 28  decstr           5009 non-null   object \n",
            " 29  dec              5009 non-null   float64\n",
            " 30  sy_dist          4994 non-null   float64\n",
            " 31  sy_vmag          4871 non-null   float64\n",
            " 32  sy_kmag          4876 non-null   float64\n",
            " 33  sy_gaiamag       4825 non-null   float64\n",
            "dtypes: float64(20), int64(5), object(9)\n",
            "memory usage: 1.3+ MB\n"
          ]
        }
      ]
    },
    {
      "cell_type": "markdown",
      "source": [
        ""
      ],
      "metadata": {
        "id": "g8buTz1AAhTH"
      }
    },
    {
      "cell_type": "markdown",
      "source": [
        "## How does the transit discovery method compare to other discovery methods in terms of the number of exoplanets discovered? \n"
      ],
      "metadata": {
        "id": "MgYqCl0L6aFD"
      }
    },
    {
      "cell_type": "code",
      "source": [
        "# List of discovery types\n",
        "x = np.array(exoplanets[\"discoverymethod\"])\n",
        "discovery_types = np.unique(x)"
      ],
      "metadata": {
        "id": "TF8_NfD-6ilb"
      },
      "execution_count": null,
      "outputs": []
    },
    {
      "cell_type": "code",
      "source": [
        "#Tells how many discovery types there are\n",
        "discovery_types "
      ],
      "metadata": {
        "colab": {
          "base_uri": "https://localhost:8080/"
        },
        "id": "AD5rfNJR6uwJ",
        "outputId": "2d5fb6b0-d3d3-4b42-b02d-97f60ad5a92f"
      },
      "execution_count": null,
      "outputs": [
        {
          "output_type": "execute_result",
          "data": {
            "text/plain": [
              "array(['Astrometry', 'Disk Kinematics', 'Eclipse Timing Variations',\n",
              "       'Imaging', 'Microlensing', 'Orbital Brightness Modulation',\n",
              "       'Pulsar Timing', 'Pulsation Timing Variations', 'Radial Velocity',\n",
              "       'Transit', 'Transit Timing Variations'], dtype=object)"
            ]
          },
          "metadata": {},
          "execution_count": 70
        }
      ]
    },
    {
      "cell_type": "code",
      "source": [
        "ax1 = sns.countplot(y='discoverymethod', data=exoplanets)\n",
        "ax1.set(xlabel='Number of Planets Discovered', ylabel='Discovery Method', title='Discovery Method')\n",
        "plt.show()"
      ],
      "metadata": {
        "colab": {
          "base_uri": "https://localhost:8080/",
          "height": 295
        },
        "id": "rShySYb565mb",
        "outputId": "2e00590d-8731-4fdc-b5e9-18b5626e0646"
      },
      "execution_count": null,
      "outputs": [
        {
          "output_type": "display_data",
          "data": {
            "text/plain": [
              "<Figure size 432x288 with 1 Axes>"
            ],
            "image/png": "[encoded data removed]"
          },
          "metadata": {
            "needs_background": "light"
          }
        }
      ]
    },
    {
      "cell_type": "markdown",
      "source": [
        "We can clearly see that transit is the most common method of discovery, although in more recent years scientists have made advancements in the other discovery methods. The other methods are not at zero, but the scale of the graph makes it seem like there is no bar at all.\n",
        "\n",
        "Here is a link to [a dynamic discovery method by year graph](https://app.flourish.studio/visualisation/8761129/edit )  \n",
        "\n",
        "Radial velocity was popular in the 1990s, and the transit method was introduced around 2005 and became the most predominant method. "
      ],
      "metadata": {
        "id": "qn-sBuDr3ks6"
      }
    },
    {
      "cell_type": "markdown",
      "source": [
        "## How does the transit discovery method compare to other discovery methods in terms of the orbit period?"
      ],
      "metadata": {
        "id": "W-NkFLXC7tN3"
      }
    },
    {
      "cell_type": "code",
      "source": [
        "ax2 = sns.barplot(y='discoverymethod', x='pl_orbper', data=exoplanets)\n",
        "ax2.set(xlabel='Orbital Period', ylabel='', title='Discovery Method and Orbital Period (days)')\n",
        "plt.show()"
      ],
      "metadata": {
        "colab": {
          "base_uri": "https://localhost:8080/",
          "height": 295
        },
        "id": "i68y1zBd7s8g",
        "outputId": "a2e3f9b5-74a3-4155-ebe9-e57ab3a09736"
      },
      "execution_count": null,
      "outputs": [
        {
          "output_type": "display_data",
          "data": {
            "text/plain": [
              "<Figure size 432x288 with 1 Axes>"
            ],
            "image/png": "[encoded data removed]"
          },
          "metadata": {
            "needs_background": "light"
          }
        }
      ]
    },
    {
      "cell_type": "markdown",
      "source": [
        "In this graph, the imaging method is skewing the data, making it difficult to see the orbital periods in the other discovery methods. We will remove imaging from the following graph."
      ],
      "metadata": {
        "id": "6nD2D8Jm8XQb"
      }
    },
    {
      "cell_type": "code",
      "source": [
        "#df2\n",
        "df2 = exoplanets[exoplanets.discoverymethod != \"Imaging\"]"
      ],
      "metadata": {
        "id": "48DP-i9B8kAW"
      },
      "execution_count": null,
      "outputs": []
    },
    {
      "cell_type": "code",
      "source": [
        "print(df2)"
      ],
      "metadata": {
        "colab": {
          "base_uri": "https://localhost:8080/"
        },
        "id": "6Hp1PSCT8qlR",
        "outputId": "b4fb1bb4-f47b-4ec8-bf40-25260b9469c4"
      },
      "execution_count": null,
      "outputs": [
        {
          "output_type": "stream",
          "name": "stdout",
          "text": [
            "         pl_name  hostname  sy_snum  sy_pnum  discoverymethod  disc_year  \\\n",
            "0       11 Com b    11 Com        2        1  Radial Velocity       2007   \n",
            "1       11 UMi b    11 UMi        1        1  Radial Velocity       2009   \n",
            "2       14 And b    14 And        1        1  Radial Velocity       2008   \n",
            "3       14 Her b    14 Her        1        2  Radial Velocity       2002   \n",
            "4     16 Cyg B b  16 Cyg B        3        1  Radial Velocity       1996   \n",
            "...          ...       ...      ...      ...              ...        ...   \n",
            "5004   ups And b   ups And        2        3  Radial Velocity       1996   \n",
            "5005   ups And c   ups And        2        3  Radial Velocity       1999   \n",
            "5006   ups And d   ups And        2        3  Radial Velocity       1999   \n",
            "5007   ups Leo b   ups Leo        1        1  Radial Velocity       2021   \n",
            "5008    xi Aql b    xi Aql        1        1  Radial Velocity       2007   \n",
            "\n",
            "                               disc_facility  pl_controv_flag    pl_orbper  \\\n",
            "0                           Xinglong Station                0   326.030000   \n",
            "1     Thueringer Landessternwarte Tautenburg                0   516.219970   \n",
            "2          Okayama Astrophysical Observatory                0   185.840000   \n",
            "3                     W. M. Keck Observatory                0  1773.400020   \n",
            "4                     Multiple Observatories                0   798.500000   \n",
            "...                                      ...              ...          ...   \n",
            "5004                        Lick Observatory                0     4.617033   \n",
            "5005                  Multiple Observatories                0   241.258000   \n",
            "5006                  Multiple Observatories                0  1276.460000   \n",
            "5007       Okayama Astrophysical Observatory                0   385.200000   \n",
            "5008       Okayama Astrophysical Observatory                0   136.750000   \n",
            "\n",
            "      pl_orbsmax  ...  st_metratio  st_logg         rastr          ra  \\\n",
            "0       1.290000  ...       [Fe/H]     2.31  12h20m42.91s  185.178779   \n",
            "1       1.530000  ...       [Fe/H]     1.93  15h17m05.90s  229.274595   \n",
            "2       0.830000  ...       [Fe/H]     2.63  23h31m17.80s  352.824150   \n",
            "3       2.930000  ...       [Fe/H]     4.45  16h10m24.50s  242.602101   \n",
            "4       1.660000  ...       [Fe/H]     4.36  19h41m51.75s  295.465642   \n",
            "...          ...  ...          ...      ...           ...         ...   \n",
            "5004    0.059222  ...        [M/H]     4.13  01h36m47.60s   24.198353   \n",
            "5005    0.827774  ...        [M/H]     4.13  01h36m47.60s   24.198353   \n",
            "5006    2.513290  ...        [M/H]     4.13  01h36m47.60s   24.198353   \n",
            "5007    1.180000  ...       [Fe/H]     2.46  11h36m56.93s  174.237219   \n",
            "5008    0.680000  ...       [Fe/H]     2.66  19h54m14.99s  298.562449   \n",
            "\n",
            "             decstr        dec   sy_dist  sy_vmag  sy_kmag sy_gaiamag  \n",
            "0     +17d47m35.71s  17.793252   93.1846  4.72307    2.282    4.44038  \n",
            "1     +71d49m26.19s  71.823943  125.3210  5.01300    1.939    4.56216  \n",
            "2     +39d14m09.01s  39.235837   75.4392  5.23133    2.331    4.91781  \n",
            "3     +43d48m58.90s  43.816362   17.9323  6.61935    4.714    6.38300  \n",
            "4     +50d31m00.57s  50.516824   21.1397  6.21500    4.651    6.06428  \n",
            "...             ...        ...       ...      ...      ...        ...  \n",
            "5004  +41d24m13.73s  41.403815   13.4054  4.09565    2.859    3.98687  \n",
            "5005  +41d24m13.73s  41.403815   13.4054  4.09565    2.859    3.98687  \n",
            "5006  +41d24m13.73s  41.403815   13.4054  4.09565    2.859    3.98687  \n",
            "5007  -00d49m24.83s  -0.823564   52.5973  4.30490    2.184    4.03040  \n",
            "5008  +08d27m39.98s   8.461105   56.1858  4.70964    2.171    4.42501  \n",
            "\n",
            "[4951 rows x 34 columns]\n"
          ]
        }
      ]
    },
    {
      "cell_type": "code",
      "source": [
        "x = np.array(df2[\"discoverymethod\"])\n",
        "discovery_types = np.unique(x)"
      ],
      "metadata": {
        "id": "9r5lxcxr85iX"
      },
      "execution_count": null,
      "outputs": []
    },
    {
      "cell_type": "code",
      "source": [
        "print(discovery_types)"
      ],
      "metadata": {
        "colab": {
          "base_uri": "https://localhost:8080/"
        },
        "id": "5q0sAlvt89aV",
        "outputId": "99bf9d7d-1b15-46bf-e1c4-a7028d9ee5cc"
      },
      "execution_count": null,
      "outputs": [
        {
          "output_type": "stream",
          "name": "stdout",
          "text": [
            "['Astrometry' 'Disk Kinematics' 'Eclipse Timing Variations' 'Microlensing'\n",
            " 'Orbital Brightness Modulation' 'Pulsar Timing'\n",
            " 'Pulsation Timing Variations' 'Radial Velocity' 'Transit'\n",
            " 'Transit Timing Variations']\n"
          ]
        }
      ]
    },
    {
      "cell_type": "markdown",
      "source": [
        "We are verifying that the imaging discovery method is no longer included in this data frame."
      ],
      "metadata": {
        "id": "0rp4TBKz9AnS"
      }
    },
    {
      "cell_type": "code",
      "source": [
        "ax2 = sns.barplot(y='discoverymethod', x='pl_orbper', data=df2)\n",
        "ax2.set(xlabel='Orbital Period', ylabel='', title='Discovery Method and Orbital Period (days)')\n",
        "plt.show()"
      ],
      "metadata": {
        "colab": {
          "base_uri": "https://localhost:8080/",
          "height": 295
        },
        "id": "3r7pK_128_6Y",
        "outputId": "66eddb0f-045d-4ada-95a1-c6da74b2f022"
      },
      "execution_count": null,
      "outputs": [
        {
          "output_type": "display_data",
          "data": {
            "text/plain": [
              "<Figure size 432x288 with 1 Axes>"
            ],
            "image/png": "[encoded data removed]"
          },
          "metadata": {
            "needs_background": "light"
          }
        }
      ]
    },
    {
      "cell_type": "markdown",
      "source": [
        "Here, we can see the different discovery methods and the average orbital periods for each method. \n",
        "The transit method is a phenomenon when a celestial body passes directly between a larger body and the observer. The transit method has a much smaller orbital period on average, which makes sense because it is easier for astronomers to take more than one measurement of the star using the transit method if there is a shorter orbital period. Also, astronomers would be better able to measure the exoplanet if it is closer to the star. "
      ],
      "metadata": {
        "id": "gA1-1IuW9I0K"
      }
    },
    {
      "cell_type": "markdown",
      "source": [
        "## How does the transit discovery method compare to other discovery methods in terms of the size of discovered planets?\n"
      ],
      "metadata": {
        "id": "1UHlD5kq5RZE"
      }
    },
    {
      "cell_type": "code",
      "source": [
        "# List of radii\n",
        "pl_rade_min = min(exoplanets[\"pl_rade\"])\n",
        "pl_rade_max = max(exoplanets[\"pl_rade\"])\n",
        "print(pl_rade_min, \" - \", pl_rade_max)"
      ],
      "metadata": {
        "id": "ROJKR7FU9IYk",
        "colab": {
          "base_uri": "https://localhost:8080/",
          "height": 222
        },
        "outputId": "8fcd9bbc-bcf8-42f1-e491-4ac1152a114f"
      },
      "execution_count": null,
      "outputs": [
        {
          "output_type": "error",
          "ename": "TypeError",
          "evalue": "ignored",
          "traceback": [
            "\u001b[0;31m---------------------------------------------------------------------------\u001b[0m",
            "\u001b[0;31mTypeError\u001b[0m                                 Traceback (most recent call last)",
            "\u001b[0;32m<ipython-input-81-4c9dfc510f2d>\u001b[0m in \u001b[0;36m<module>\u001b[0;34m()\u001b[0m\n\u001b[1;32m      1\u001b[0m \u001b[0;31m# List of radii\u001b[0m\u001b[0;34m\u001b[0m\u001b[0;34m\u001b[0m\u001b[0;34m\u001b[0m\u001b[0m\n\u001b[0;32m----> 2\u001b[0;31m \u001b[0mpl_rade_min\u001b[0m \u001b[0;34m=\u001b[0m \u001b[0mmin\u001b[0m\u001b[0;34m(\u001b[0m\u001b[0mexoplanets\u001b[0m\u001b[0;34m[\u001b[0m\u001b[0;34m\"pl_rade\"\u001b[0m\u001b[0;34m]\u001b[0m\u001b[0;34m)\u001b[0m\u001b[0;34m\u001b[0m\u001b[0;34m\u001b[0m\u001b[0m\n\u001b[0m\u001b[1;32m      3\u001b[0m \u001b[0mpl_rade_max\u001b[0m \u001b[0;34m=\u001b[0m \u001b[0mmax\u001b[0m\u001b[0;34m(\u001b[0m\u001b[0mexoplanets\u001b[0m\u001b[0;34m[\u001b[0m\u001b[0;34m\"pl_rade\"\u001b[0m\u001b[0;34m]\u001b[0m\u001b[0;34m)\u001b[0m\u001b[0;34m\u001b[0m\u001b[0;34m\u001b[0m\u001b[0m\n\u001b[1;32m      4\u001b[0m \u001b[0mprint\u001b[0m\u001b[0;34m(\u001b[0m\u001b[0mpl_rade_min\u001b[0m\u001b[0;34m,\u001b[0m \u001b[0;34m\" - \"\u001b[0m\u001b[0;34m,\u001b[0m \u001b[0mpl_rade_max\u001b[0m\u001b[0;34m)\u001b[0m\u001b[0;34m\u001b[0m\u001b[0;34m\u001b[0m\u001b[0m\n",
            "\u001b[0;31mTypeError\u001b[0m: 'float' object is not callable"
          ]
        }
      ]
    },
    {
      "cell_type": "code",
      "source": [
        "ax1 = sns.barplot(y='discoverymethod', x='pl_rade', data=exoplanets)\n",
        "ax1.set(xlabel='Earth Radius', ylabel='', title='Discovery Method by Earth Radius')\n",
        "plt.show()"
      ],
      "metadata": {
        "colab": {
          "base_uri": "https://localhost:8080/",
          "height": 295
        },
        "id": "1EPLvXt-3buc",
        "outputId": "65ba4dc0-d5aa-4509-e8d1-0ff222693c80"
      },
      "execution_count": null,
      "outputs": [
        {
          "output_type": "display_data",
          "data": {
            "text/plain": [
              "<Figure size 432x288 with 1 Axes>"
            ],
            "image/png": "[encoded data removed]"
          },
          "metadata": {
            "needs_background": "light"
          }
        }
      ]
    },
    {
      "cell_type": "markdown",
      "source": [
        "The average radius for exoplanets discovered using the transit method is approximately 4.8 times larger than the Earth's radius. \n",
        "This is small compared to other discovery methods. The largest average is imaging, which uses infrared wavelengths to capture iamges of exoplanets directly. "
      ],
      "metadata": {
        "id": "aA-pN_1H5rxI"
      }
    },
    {
      "cell_type": "markdown",
      "source": [
        "## Which class of stars have the most planets around them? (star types O, B, A, F, G, K, M, in order of decreasing temperatures)\n"
      ],
      "metadata": {
        "id": "hfTnkyXF7leB"
      }
    },
    {
      "cell_type": "markdown",
      "source": [
        "We will convert the temperature variable into categorical ones by putting them into star types based on the range."
      ],
      "metadata": {
        "id": "qRoSfMsM-GE8"
      }
    },
    {
      "cell_type": "code",
      "source": [
        "df3 = pd.cut(exoplanets.st_teff,bins=[0,3500,5000,6000,7500,10000,30000,60000],labels=[\"M\",\"K\",\"G\",\"F\",\"A\",\"B\",\"O\"])"
      ],
      "metadata": {
        "id": "w_myEopl7gqS"
      },
      "execution_count": null,
      "outputs": []
    },
    {
      "cell_type": "code",
      "source": [
        "print(df3)"
      ],
      "metadata": {
        "colab": {
          "base_uri": "https://localhost:8080/"
        },
        "id": "6gHYbK7C7tGh",
        "outputId": "1430504b-6e96-4676-8a22-7cec890ee71a"
      },
      "execution_count": null,
      "outputs": [
        {
          "output_type": "stream",
          "name": "stdout",
          "text": [
            "0       K\n",
            "1       K\n",
            "2       K\n",
            "3       G\n",
            "4       G\n",
            "       ..\n",
            "5004    F\n",
            "5005    F\n",
            "5006    F\n",
            "5007    K\n",
            "5008    K\n",
            "Name: st_teff, Length: 5009, dtype: category\n",
            "Categories (7, object): ['M' < 'K' < 'G' < 'F' < 'A' < 'B' < 'O']\n"
          ]
        }
      ]
    },
    {
      "cell_type": "code",
      "source": [
        "df3 = df3.to_frame()\n"
      ],
      "metadata": {
        "id": "kfwnFu3E7wTF"
      },
      "execution_count": null,
      "outputs": []
    },
    {
      "cell_type": "code",
      "source": [
        "ax1 = sns.countplot(x='st_teff', data=df3)\n",
        "ax1.set(xlabel='Class of Star by Stellar Temperature', ylabel='Count', title='Star Type with Planet Numbers')\n",
        "plt.show()"
      ],
      "metadata": {
        "colab": {
          "base_uri": "https://localhost:8080/",
          "height": 295
        },
        "id": "gmU5wudI72QF",
        "outputId": "00fc67c5-56e4-4349-eea2-1d3753fa8fbd"
      },
      "execution_count": null,
      "outputs": [
        {
          "output_type": "display_data",
          "data": {
            "text/plain": [
              "<Figure size 432x288 with 1 Axes>"
            ],
            "image/png": "[encoded data removed]"
          },
          "metadata": {
            "needs_background": "light"
          }
        }
      ]
    },
    {
      "cell_type": "markdown",
      "source": [
        "Star types used: M (0-3500 Kelvin), K (3500-5000 Kelvin), G (5000-6000 Kelvin), F (6000-7500 Kelvin), A (7500-10000 Kelvin), B (10000-30000 Kelvin), O (30000-60000 Kelvin)\n",
        "\n",
        "The cooler star types start from M, and the hottest star type is type O. \n",
        "\n",
        "Our sun is in the class G star. \n",
        "\n",
        "We can see that star types F, G, and K are the most common. There are not as many for star types A, B, and O, which may be because the methods used cannot detect exoplanets with stars of such a high temperature. \n",
        "\n",
        "Transit methods are the most common with a smaller orbital period -- may be more difficult to use the transit method for a hotter star, since the exoplanets may need a larger orbital period so they won't burn up. "
      ],
      "metadata": {
        "id": "iJ0E-X0w7-k4"
      }
    },
    {
      "cell_type": "markdown",
      "source": [
        "## Consider the planets that meet the parameters for the Habitable Zone (equilibrium temperature (planet surface) of 180-310 degrees K, and insolation flux factor of .25-2.2 (amount of radiation the planet receives from the star it is orbiting)"
      ],
      "metadata": {
        "id": "SrToHUE__s0H"
      }
    },
    {
      "cell_type": "markdown",
      "source": [
        "#16 and #17 (pl_insol and pl_eqt)"
      ],
      "metadata": {
        "id": "L0z6ChBNAkQB"
      }
    },
    {
      "cell_type": "code",
      "source": [
        "exoplanets.pl_insol"
      ],
      "metadata": {
        "id": "LtcZVUZg8sN8",
        "colab": {
          "base_uri": "https://localhost:8080/"
        },
        "outputId": "edc94d62-94de-4c5e-ec32-8a545a2747d8"
      },
      "execution_count": null,
      "outputs": [
        {
          "output_type": "execute_result",
          "data": {
            "text/plain": [
              "0      NaN\n",
              "1      NaN\n",
              "2      NaN\n",
              "3      NaN\n",
              "4      NaN\n",
              "        ..\n",
              "5004   NaN\n",
              "5005   NaN\n",
              "5006   NaN\n",
              "5007   NaN\n",
              "5008   NaN\n",
              "Name: pl_insol, Length: 5009, dtype: float64"
            ]
          },
          "metadata": {},
          "execution_count": 86
        }
      ]
    },
    {
      "cell_type": "code",
      "source": [
        "exoplanets.pl_eqt"
      ],
      "metadata": {
        "colab": {
          "base_uri": "https://localhost:8080/"
        },
        "id": "75lkPDj97sPb",
        "outputId": "c7d6b910-4880-464a-fe95-170b1beec25a"
      },
      "execution_count": null,
      "outputs": [
        {
          "output_type": "execute_result",
          "data": {
            "text/plain": [
              "0      NaN\n",
              "1      NaN\n",
              "2      NaN\n",
              "3      NaN\n",
              "4      NaN\n",
              "        ..\n",
              "5004   NaN\n",
              "5005   NaN\n",
              "5006   NaN\n",
              "5007   NaN\n",
              "5008   NaN\n",
              "Name: pl_eqt, Length: 5009, dtype: float64"
            ]
          },
          "metadata": {},
          "execution_count": 87
        }
      ]
    },
    {
      "cell_type": "code",
      "source": [
        "df5=exoplanets[[\"pl_insol\", \"pl_eqt\"]]\n",
        "df5.head()"
      ],
      "metadata": {
        "colab": {
          "base_uri": "https://localhost:8080/",
          "height": 206
        },
        "id": "5JWxsjn88Yz5",
        "outputId": "50092216-2a75-4b53-9df9-f6158b220730"
      },
      "execution_count": null,
      "outputs": [
        {
          "output_type": "execute_result",
          "data": {
            "text/plain": [
              "   pl_insol  pl_eqt\n",
              "0       NaN     NaN\n",
              "1       NaN     NaN\n",
              "2       NaN     NaN\n",
              "3       NaN     NaN\n",
              "4       NaN     NaN"
            ],
            "text/html": [
              "\n",
              "  <div id=\"df-bd2d913d-e6b1-48f7-8000-065a86bbf435\">\n",
              "    <div class=\"colab-df-container\">\n",
              "      <div>\n",
              "<style scoped>\n",
              "    .dataframe tbody tr th:only-of-type {\n",
              "        vertical-align: middle;\n",
              "    }\n",
              "\n",
              "    .dataframe tbody tr th {\n",
              "        vertical-align: top;\n",
              "    }\n",
              "\n",
              "    .dataframe thead th {\n",
              "        text-align: right;\n",
              "    }\n",
              "</style>\n",
              "<table border=\"1\" class=\"dataframe\">\n",
              "  <thead>\n",
              "    <tr style=\"text-align: right;\">\n",
              "      <th></th>\n",
              "      <th>pl_insol</th>\n",
              "      <th>pl_eqt</th>\n",
              "    </tr>\n",
              "  </thead>\n",
              "  <tbody>\n",
              "    <tr>\n",
              "      <th>0</th>\n",
              "      <td>NaN</td>\n",
              "      <td>NaN</td>\n",
              "    </tr>\n",
              "    <tr>\n",
              "      <th>1</th>\n",
              "      <td>NaN</td>\n",
              "      <td>NaN</td>\n",
              "    </tr>\n",
              "    <tr>\n",
              "      <th>2</th>\n",
              "      <td>NaN</td>\n",
              "      <td>NaN</td>\n",
              "    </tr>\n",
              "    <tr>\n",
              "      <th>3</th>\n",
              "      <td>NaN</td>\n",
              "      <td>NaN</td>\n",
              "    </tr>\n",
              "    <tr>\n",
              "      <th>4</th>\n",
              "      <td>NaN</td>\n",
              "      <td>NaN</td>\n",
              "    </tr>\n",
              "  </tbody>\n",
              "</table>\n",
              "</div>\n",
              "      <button class=\"colab-df-convert\" onclick=\"convertToInteractive('df-bd2d913d-e6b1-48f7-8000-065a86bbf435')\"\n",
              "              title=\"Convert this dataframe to an interactive table.\"\n",
              "              style=\"display:none;\">\n",
              "        \n",
              "  <svg xmlns=\"http://www.w3.org/2000/svg\" height=\"24px\"viewBox=\"0 0 24 24\"\n",
              "       width=\"24px\">\n",
              "    <path d=\"M0 0h24v24H0V0z\" fill=\"none\"/>\n",
              "    <path d=\"M18.56 5.44l.94 2.06.94-2.06 2.06-.94-2.06-.94-.94-2.06-.94 2.06-2.06.94zm-11 1L8.5 8.5l.94-2.06 2.06-.94-2.06-.94L8.5 2.5l-.94 2.06-2.06.94zm10 10l.94 2.06.94-2.06 2.06-.94-2.06-.94-.94-2.06-.94 2.06-2.06.94z\"/><path d=\"M17.41 7.96l-1.37-1.37c-.4-.4-.92-.59-1.43-.59-.52 0-1.04.2-1.43.59L10.3 9.45l-7.72 7.72c-.78.78-.78 2.05 0 2.83L4 21.41c.39.39.9.59 1.41.59.51 0 1.02-.2 1.41-.59l7.78-7.78 2.81-2.81c.8-.78.8-2.07 0-2.86zM5.41 20L4 18.59l7.72-7.72 1.47 1.35L5.41 20z\"/>\n",
              "  </svg>\n",
              "      </button>\n",
              "      \n",
              "  <style>\n",
              "    .colab-df-container {\n",
              "      display:flex;\n",
              "      flex-wrap:wrap;\n",
              "      gap: 12px;\n",
              "    }\n",
              "\n",
              "    .colab-df-convert {\n",
              "      background-color: #E8F0FE;\n",
              "      border: none;\n",
              "      border-radius: 50%;\n",
              "      cursor: pointer;\n",
              "      display: none;\n",
              "      fill: #1967D2;\n",
              "      height: 32px;\n",
              "      padding: 0 0 0 0;\n",
              "      width: 32px;\n",
              "    }\n",
              "\n",
              "    .colab-df-convert:hover {\n",
              "      background-color: #E2EBFA;\n",
              "      box-shadow: 0px 1px 2px rgba(60, 64, 67, 0.3), 0px 1px 3px 1px rgba(60, 64, 67, 0.15);\n",
              "      fill: #174EA6;\n",
              "    }\n",
              "\n",
              "    [theme=dark] .colab-df-convert {\n",
              "      background-color: #3B4455;\n",
              "      fill: #D2E3FC;\n",
              "    }\n",
              "\n",
              "    [theme=dark] .colab-df-convert:hover {\n",
              "      background-color: #434B5C;\n",
              "      box-shadow: 0px 1px 3px 1px rgba(0, 0, 0, 0.15);\n",
              "      filter: drop-shadow(0px 1px 2px rgba(0, 0, 0, 0.3));\n",
              "      fill: #FFFFFF;\n",
              "    }\n",
              "  </style>\n",
              "\n",
              "      <script>\n",
              "        const buttonEl =\n",
              "          document.querySelector('#df-bd2d913d-e6b1-48f7-8000-065a86bbf435 button.colab-df-convert');\n",
              "        buttonEl.style.display =\n",
              "          google.colab.kernel.accessAllowed ? 'block' : 'none';\n",
              "\n",
              "        async function convertToInteractive(key) {\n",
              "          const element = document.querySelector('#df-bd2d913d-e6b1-48f7-8000-065a86bbf435');\n",
              "          const dataTable =\n",
              "            await google.colab.kernel.invokeFunction('convertToInteractive',\n",
              "                                                     [key], {});\n",
              "          if (!dataTable) return;\n",
              "\n",
              "          const docLinkHtml = 'Like what you see? Visit the ' +\n",
              "            '<a target=\"_blank\" href=https://colab.research.google.com/notebooks/data_table.ipynb>data table notebook</a>'\n",
              "            + ' to learn more about interactive tables.';\n",
              "          element.innerHTML = '';\n",
              "          dataTable['output_type'] = 'display_data';\n",
              "          await google.colab.output.renderOutput(dataTable, element);\n",
              "          const docLink = document.createElement('div');\n",
              "          docLink.innerHTML = docLinkHtml;\n",
              "          element.appendChild(docLink);\n",
              "        }\n",
              "      </script>\n",
              "    </div>\n",
              "  </div>\n",
              "  "
            ]
          },
          "metadata": {},
          "execution_count": 88
        }
      ]
    },
    {
      "cell_type": "code",
      "source": [
        "df5=df5.dropna()\n",
        "df5.head()"
      ],
      "metadata": {
        "colab": {
          "base_uri": "https://localhost:8080/",
          "height": 206
        },
        "id": "xVlIHgNx9C_J",
        "outputId": "3d76d85e-68da-4389-8c52-268267f9a68c"
      },
      "execution_count": null,
      "outputs": [
        {
          "output_type": "execute_result",
          "data": {
            "text/plain": [
              "     pl_insol  pl_eqt\n",
              "72       8.60   464.0\n",
              "112    132.26   938.0\n",
              "123    145.10   850.0\n",
              "144      3.50   431.0\n",
              "158   4293.00  2119.0"
            ],
            "text/html": [
              "\n",
              "  <div id=\"df-59e3f212-828c-40ee-ae3b-8a84faf6f8ac\">\n",
              "    <div class=\"colab-df-container\">\n",
              "      <div>\n",
              "<style scoped>\n",
              "    .dataframe tbody tr th:only-of-type {\n",
              "        vertical-align: middle;\n",
              "    }\n",
              "\n",
              "    .dataframe tbody tr th {\n",
              "        vertical-align: top;\n",
              "    }\n",
              "\n",
              "    .dataframe thead th {\n",
              "        text-align: right;\n",
              "    }\n",
              "</style>\n",
              "<table border=\"1\" class=\"dataframe\">\n",
              "  <thead>\n",
              "    <tr style=\"text-align: right;\">\n",
              "      <th></th>\n",
              "      <th>pl_insol</th>\n",
              "      <th>pl_eqt</th>\n",
              "    </tr>\n",
              "  </thead>\n",
              "  <tbody>\n",
              "    <tr>\n",
              "      <th>72</th>\n",
              "      <td>8.60</td>\n",
              "      <td>464.0</td>\n",
              "    </tr>\n",
              "    <tr>\n",
              "      <th>112</th>\n",
              "      <td>132.26</td>\n",
              "      <td>938.0</td>\n",
              "    </tr>\n",
              "    <tr>\n",
              "      <th>123</th>\n",
              "      <td>145.10</td>\n",
              "      <td>850.0</td>\n",
              "    </tr>\n",
              "    <tr>\n",
              "      <th>144</th>\n",
              "      <td>3.50</td>\n",
              "      <td>431.0</td>\n",
              "    </tr>\n",
              "    <tr>\n",
              "      <th>158</th>\n",
              "      <td>4293.00</td>\n",
              "      <td>2119.0</td>\n",
              "    </tr>\n",
              "  </tbody>\n",
              "</table>\n",
              "</div>\n",
              "      <button class=\"colab-df-convert\" onclick=\"convertToInteractive('df-59e3f212-828c-40ee-ae3b-8a84faf6f8ac')\"\n",
              "              title=\"Convert this dataframe to an interactive table.\"\n",
              "              style=\"display:none;\">\n",
              "        \n",
              "  <svg xmlns=\"http://www.w3.org/2000/svg\" height=\"24px\"viewBox=\"0 0 24 24\"\n",
              "       width=\"24px\">\n",
              "    <path d=\"M0 0h24v24H0V0z\" fill=\"none\"/>\n",
              "    <path d=\"M18.56 5.44l.94 2.06.94-2.06 2.06-.94-2.06-.94-.94-2.06-.94 2.06-2.06.94zm-11 1L8.5 8.5l.94-2.06 2.06-.94-2.06-.94L8.5 2.5l-.94 2.06-2.06.94zm10 10l.94 2.06.94-2.06 2.06-.94-2.06-.94-.94-2.06-.94 2.06-2.06.94z\"/><path d=\"M17.41 7.96l-1.37-1.37c-.4-.4-.92-.59-1.43-.59-.52 0-1.04.2-1.43.59L10.3 9.45l-7.72 7.72c-.78.78-.78 2.05 0 2.83L4 21.41c.39.39.9.59 1.41.59.51 0 1.02-.2 1.41-.59l7.78-7.78 2.81-2.81c.8-.78.8-2.07 0-2.86zM5.41 20L4 18.59l7.72-7.72 1.47 1.35L5.41 20z\"/>\n",
              "  </svg>\n",
              "      </button>\n",
              "      \n",
              "  <style>\n",
              "    .colab-df-container {\n",
              "      display:flex;\n",
              "      flex-wrap:wrap;\n",
              "      gap: 12px;\n",
              "    }\n",
              "\n",
              "    .colab-df-convert {\n",
              "      background-color: #E8F0FE;\n",
              "      border: none;\n",
              "      border-radius: 50%;\n",
              "      cursor: pointer;\n",
              "      display: none;\n",
              "      fill: #1967D2;\n",
              "      height: 32px;\n",
              "      padding: 0 0 0 0;\n",
              "      width: 32px;\n",
              "    }\n",
              "\n",
              "    .colab-df-convert:hover {\n",
              "      background-color: #E2EBFA;\n",
              "      box-shadow: 0px 1px 2px rgba(60, 64, 67, 0.3), 0px 1px 3px 1px rgba(60, 64, 67, 0.15);\n",
              "      fill: #174EA6;\n",
              "    }\n",
              "\n",
              "    [theme=dark] .colab-df-convert {\n",
              "      background-color: #3B4455;\n",
              "      fill: #D2E3FC;\n",
              "    }\n",
              "\n",
              "    [theme=dark] .colab-df-convert:hover {\n",
              "      background-color: #434B5C;\n",
              "      box-shadow: 0px 1px 3px 1px rgba(0, 0, 0, 0.15);\n",
              "      filter: drop-shadow(0px 1px 2px rgba(0, 0, 0, 0.3));\n",
              "      fill: #FFFFFF;\n",
              "    }\n",
              "  </style>\n",
              "\n",
              "      <script>\n",
              "        const buttonEl =\n",
              "          document.querySelector('#df-59e3f212-828c-40ee-ae3b-8a84faf6f8ac button.colab-df-convert');\n",
              "        buttonEl.style.display =\n",
              "          google.colab.kernel.accessAllowed ? 'block' : 'none';\n",
              "\n",
              "        async function convertToInteractive(key) {\n",
              "          const element = document.querySelector('#df-59e3f212-828c-40ee-ae3b-8a84faf6f8ac');\n",
              "          const dataTable =\n",
              "            await google.colab.kernel.invokeFunction('convertToInteractive',\n",
              "                                                     [key], {});\n",
              "          if (!dataTable) return;\n",
              "\n",
              "          const docLinkHtml = 'Like what you see? Visit the ' +\n",
              "            '<a target=\"_blank\" href=https://colab.research.google.com/notebooks/data_table.ipynb>data table notebook</a>'\n",
              "            + ' to learn more about interactive tables.';\n",
              "          element.innerHTML = '';\n",
              "          dataTable['output_type'] = 'display_data';\n",
              "          await google.colab.output.renderOutput(dataTable, element);\n",
              "          const docLink = document.createElement('div');\n",
              "          docLink.innerHTML = docLinkHtml;\n",
              "          element.appendChild(docLink);\n",
              "        }\n",
              "      </script>\n",
              "    </div>\n",
              "  </div>\n",
              "  "
            ]
          },
          "metadata": {},
          "execution_count": 89
        }
      ]
    },
    {
      "cell_type": "code",
      "source": [
        "df5.info()"
      ],
      "metadata": {
        "colab": {
          "base_uri": "https://localhost:8080/"
        },
        "id": "usiymq7P9X97",
        "outputId": "a94f030a-80de-4031-b947-3cd9b09717f8"
      },
      "execution_count": null,
      "outputs": [
        {
          "output_type": "stream",
          "name": "stdout",
          "text": [
            "<class 'pandas.core.frame.DataFrame'>\n",
            "Int64Index: 3115 entries, 72 to 4997\n",
            "Data columns (total 2 columns):\n",
            " #   Column    Non-Null Count  Dtype  \n",
            "---  ------    --------------  -----  \n",
            " 0   pl_insol  3115 non-null   float64\n",
            " 1   pl_eqt    3115 non-null   float64\n",
            "dtypes: float64(2)\n",
            "memory usage: 73.0 KB\n"
          ]
        }
      ]
    },
    {
      "cell_type": "code",
      "source": [
        "#copying df5 to filter and slowly start filtering out non-habitable  \n",
        "df5_filter = df5\n",
        "#df5_filter = df5[df5['pl_insol'] >= .25 & <= 2.2] \n",
        "\n",
        "insol_filter = (df5['pl_insol'] >= .25) & (df5['pl_insol'] <= 2.2)\n",
        "\n",
        "#df5_filter = df5[df5['pl_insol'] <= 2.2\n",
        "df5_filter = df5.loc[insol_filter]"
      ],
      "metadata": {
        "id": "gVM7VWmd90jw"
      },
      "execution_count": null,
      "outputs": []
    },
    {
      "cell_type": "code",
      "source": [
        "min = df5_filter[\"pl_insol\"].min()\n",
        "max = df5_filter[\"pl_insol\"].max()\n",
        "\n",
        "print(\"min:\" + str(min))\n",
        "print(\"max:\" + str(max))"
      ],
      "metadata": {
        "colab": {
          "base_uri": "https://localhost:8080/"
        },
        "id": "f4vwlzIeAXme",
        "outputId": "dae10348-62d9-40f1-d2c4-a6ebf9cb0e3b"
      },
      "execution_count": null,
      "outputs": [
        {
          "output_type": "stream",
          "name": "stdout",
          "text": [
            "min:0.25\n",
            "max:2.18\n"
          ]
        }
      ]
    },
    {
      "cell_type": "code",
      "source": [
        "\n",
        "\n",
        "eqt_filter = (df5['pl_eqt'] >= 180) & (df5['pl_eqt'] <= 310)\n",
        "\n",
        "df5_filter = df5.loc[eqt_filter]"
      ],
      "metadata": {
        "id": "1bSaY9pFBDou"
      },
      "execution_count": null,
      "outputs": []
    },
    {
      "cell_type": "code",
      "source": [
        "min = df5_filter[\"pl_eqt\"].min()\n",
        "max = df5_filter[\"pl_eqt\"].max()\n",
        "\n",
        "print(\"min:\" + str(min))\n",
        "print(\"max:\" + str(max))"
      ],
      "metadata": {
        "colab": {
          "base_uri": "https://localhost:8080/"
        },
        "id": "3QdAs-oxE1bb",
        "outputId": "5b9f0bee-0c04-4275-db36-733672c10958"
      },
      "execution_count": null,
      "outputs": [
        {
          "output_type": "stream",
          "name": "stdout",
          "text": [
            "min:182.0\n",
            "max:310.0\n"
          ]
        }
      ]
    },
    {
      "cell_type": "code",
      "source": [
        "count_habplan=df5_filter.dropna().count()"
      ],
      "metadata": {
        "id": "kQmgcZtXE6tW"
      },
      "execution_count": null,
      "outputs": []
    },
    {
      "cell_type": "code",
      "source": [
        "print(count_habplan)"
      ],
      "metadata": {
        "colab": {
          "base_uri": "https://localhost:8080/"
        },
        "id": "ESUoOVQ8FOZb",
        "outputId": "22ec58ab-6c8d-451f-de8f-ccbf01991b2f"
      },
      "execution_count": null,
      "outputs": [
        {
          "output_type": "stream",
          "name": "stdout",
          "text": [
            "pl_insol    105\n",
            "pl_eqt      105\n",
            "dtype: int64\n"
          ]
        }
      ]
    }
  ]
}
